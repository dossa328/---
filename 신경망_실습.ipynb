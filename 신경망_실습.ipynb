{
 "cells": [
  {
   "cell_type": "code",
   "execution_count": 1,
   "metadata": {},
   "outputs": [],
   "source": [
    "import numpy as np\n",
    "import pandas as pd\n",
    "\n",
    "from sklearn.neural_network import MLPClassifier\n",
    "from sklearn.datasets import load_iris\n",
    "from sklearn.model_selection import train_test_split\n",
    "from sklearn.preprocessing import StandardScaler\n"
   ]
  },
  {
   "cell_type": "code",
   "execution_count": 2,
   "metadata": {},
   "outputs": [
    {
     "data": {
      "text/plain": [
       "['sepal length (cm)',\n",
       " 'sepal width (cm)',\n",
       " 'petal length (cm)',\n",
       " 'petal width (cm)']"
      ]
     },
     "execution_count": 2,
     "metadata": {},
     "output_type": "execute_result"
    }
   ],
   "source": [
    "iris = load_iris()\n",
    "iris.feature_names"
   ]
  },
  {
   "cell_type": "code",
   "execution_count": 4,
   "metadata": {},
   "outputs": [
    {
     "name": "stdout",
     "output_type": "stream",
     "text": [
      "독립변수의 행, 열 :  (100, 2)\n",
      "종속변소의 행, 열 :  (100,)\n"
     ]
    }
   ],
   "source": [
    "# 독립변수로 sepal만 가져와보겠음\n",
    "# 종속변수로 \n",
    "X = iris.data[50:150, 0:2]\n",
    "y = iris.target[50:150]\n",
    "print(\"독립변수의 행, 열 : \", X.shape)\n",
    "print(\"종속변소의 행, 열 : \", y.shape)"
   ]
  },
  {
   "cell_type": "code",
   "execution_count": 7,
   "metadata": {},
   "outputs": [
    {
     "name": "stdout",
     "output_type": "stream",
     "text": [
      "(75, 2)\n"
     ]
    },
    {
     "data": {
      "text/plain": [
       "(25, 2)"
      ]
     },
     "execution_count": 7,
     "metadata": {},
     "output_type": "execute_result"
    }
   ],
   "source": [
    "# 데이터 분리\n",
    "X_train, X_test, y_train, y_test = train_test_split(\n",
    "X, y, random_state = 2)\n",
    "print(X_train.shape)\n",
    "X_test.shape"
   ]
  },
  {
   "cell_type": "code",
   "execution_count": 8,
   "metadata": {},
   "outputs": [],
   "source": [
    "# 신경망\n",
    "scaler = StandardScaler()\n",
    "scaler.fit(X_train)\n",
    "X_train_scaled = scaler.transform(X_train)\n",
    "X_test_scaled = scaler.transform(X_test)"
   ]
  },
  {
   "cell_type": "code",
   "execution_count": 15,
   "metadata": {},
   "outputs": [
    {
     "name": "stdout",
     "output_type": "stream",
     "text": [
      "훈련 데이터 적중률 :  0.8933333333333333\n",
      "테스트 데이터 적중률 :  0.68\n"
     ]
    }
   ],
   "source": [
    "# 은닉층에 100개의 유닛을 배치, 입출력까지 합쳐서 모두 4개의 신경망\n",
    "# alpha는 정규화 강도를 지정\n",
    "# max_iter는 파라미터 추정을 위해 최대 몇 번이나 반복 계산을 할지 지정\n",
    "# 활성화 함수는 ReLU가 쓰였고 파라미터 추정 알고리즘으로는 Adam이 디폴트로 지정\n",
    "\n",
    "nnet = MLPClassifier(\n",
    "    hidden_layer_sizes=(100,100),\n",
    "    alpha = 0.07,\n",
    "    max_iter = 100000,\n",
    "    random_state = 0)\n",
    "\n",
    "nnet.fit(X_train_scaled, y_train)\n",
    "\n",
    "print('훈련 데이터 적중률 : ', nnet.score(X_train_scaled, y_train))\n",
    "print('테스트 데이터 적중률 : ', nnet.score(X_test_scaled, y_test))"
   ]
  },
  {
   "cell_type": "code",
   "execution_count": null,
   "metadata": {},
   "outputs": [],
   "source": []
  }
 ],
 "metadata": {
  "kernelspec": {
   "display_name": "Python 3",
   "language": "python",
   "name": "python3"
  },
  "language_info": {
   "codemirror_mode": {
    "name": "ipython",
    "version": 3
   },
   "file_extension": ".py",
   "mimetype": "text/x-python",
   "name": "python",
   "nbconvert_exporter": "python",
   "pygments_lexer": "ipython3",
   "version": "3.8.3"
  }
 },
 "nbformat": 4,
 "nbformat_minor": 4
}
